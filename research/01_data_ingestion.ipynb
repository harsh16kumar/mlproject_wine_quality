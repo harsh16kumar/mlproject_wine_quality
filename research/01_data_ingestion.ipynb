{
 "cells": [
  {
   "cell_type": "code",
   "execution_count": 15,
   "id": "f3d86fa3",
   "metadata": {},
   "outputs": [],
   "source": [
    "import os"
   ]
  },
  {
   "cell_type": "code",
   "execution_count": 16,
   "id": "bc62b2a4",
   "metadata": {},
   "outputs": [
    {
     "data": {
      "text/plain": [
       "'/workspaces/mlproject_wine_quality'"
      ]
     },
     "execution_count": 16,
     "metadata": {},
     "output_type": "execute_result"
    }
   ],
   "source": [
    "# os.chdir('../')\n",
    "%pwd\n",
    "# os.chdir('../')"
   ]
  },
  {
   "cell_type": "code",
   "execution_count": 17,
   "id": "ff4c7d35",
   "metadata": {},
   "outputs": [],
   "source": [
    "from dataclasses import dataclass\n",
    "from pathlib import Path\n",
    "\n",
    "@dataclass(frozen=True)\n",
    "class DataIngestionConfig:\n",
    "    root_dir: Path\n",
    "    kaggle_dataset: str\n",
    "    local_data_file: Path\n",
    "    unzip_dir: Path\n"
   ]
  },
  {
   "cell_type": "code",
   "execution_count": 18,
   "id": "b0d7bc7e",
   "metadata": {},
   "outputs": [],
   "source": [
    "from pathlib import Path\n",
    "from typing import Any, Dict\n",
    "\n",
    "from wine_quality_predictor.utils.common import read_yaml, make_directory\n",
    "from wine_quality_predictor.constants import *\n",
    "\n",
    "\n",
    "class ConfigurationManager:\n",
    "    def __init__(\n",
    "        self,\n",
    "        config_filepath: Path = CONFIG_FILE_PATH,\n",
    "        params_filepath: Path = PARAMS_FILE_PATH,\n",
    "        schema_filepath: Path = SCHEMA_FILE_PATH\n",
    "    ):\n",
    "        self.config_filepath = config_filepath\n",
    "        # self.params_filepath = params_filepath\n",
    "        # self.schema_filepath = schema_filepath\n",
    "\n",
    "        self.config = read_yaml(Path(self.config_filepath))\n",
    "        # self.params = read_yaml(self.params_filepath)\n",
    "        # self.schema = read_yaml(self.schema_filepath)\n",
    "\n",
    "        make_directory(Path(self.config.artifacts_root))\n",
    "\n",
    "    def get_data_ingestion_config(self) -> DataIngestionConfig:\n",
    "        config = self.config.data_ingestion\n",
    "\n",
    "        make_directory(config.root_dir)\n",
    "\n",
    "        return DataIngestionConfig(\n",
    "            root_dir=config.root_dir,\n",
    "            kaggle_dataset=config.kaggle_dataset,\n",
    "            local_data_file=config.local_data_file,\n",
    "            unzip_dir=config.unzip_dir\n",
    "        )\n"
   ]
  },
  {
   "cell_type": "code",
   "execution_count": 19,
   "id": "30925f00",
   "metadata": {},
   "outputs": [],
   "source": [
    "import os\n",
    "import subprocess\n",
    "import zipfile\n",
    "from wine_quality_predictor.utils.common import get_file_size\n",
    "import logging\n",
    "\n",
    "\n",
    "class DataIngestion:\n",
    "    def __init__(self, config: DataIngestionConfig):\n",
    "        self.config = config\n",
    "\n",
    "    def download_data(self):\n",
    "        if not os.path.exists(self.config.local_data_file):\n",
    "            logging.info(\"Downloading dataset from Kaggle...\")\n",
    "            command = [\n",
    "                \"kaggle\", \"datasets\", \"download\",\n",
    "                \"-d\", self.config.kaggle_dataset,\n",
    "                \"-p\", str(self.config.root_dir),\n",
    "                \"--force\"\n",
    "            ]\n",
    "            subprocess.run(command, check=True)\n",
    "            logging.info(f\"Downloaded dataset to {self.config.local_data_file}\")\n",
    "        else:\n",
    "            logging.info(\"Dataset already downloaded.\")\n",
    "\n",
    "    def extract_zip_file(self):\n",
    "        unzip_path = self.config.unzip_dir\n",
    "        os.makedirs(unzip_path, exist_ok=True)\n",
    "\n",
    "        with zipfile.ZipFile(self.config.local_data_file, 'r') as zip_ref:\n",
    "            zip_ref.extractall(unzip_path)\n",
    "\n",
    "        logging.info(f\"Extracted zip file to: {unzip_path}\")\n",
    "        logging.info(f\"Files extracted: {os.listdir(unzip_path)}\")\n"
   ]
  },
  {
   "cell_type": "code",
   "execution_count": 20,
   "id": "cc5f1aa9",
   "metadata": {},
   "outputs": [
    {
     "name": "stderr",
     "output_type": "stream",
     "text": [
      "[2025-04-09 18:16:57,506] INFO - 16066906 - >>>>>> Stage Data Ingestion started <<<<<<\n",
      "[2025-04-09 18:16:57,508] INFO - common - Loaded YAML file from: config/config.yaml\n",
      "[2025-04-09 18:16:57,510] INFO - common - Created directory: artifacts\n",
      "[2025-04-09 18:16:57,512] INFO - common - Created directory: artifacts/data_ingestion\n",
      "[2025-04-09 18:16:57,515] INFO - 1950516215 - Downloading dataset from Kaggle...\n"
     ]
    },
    {
     "name": "stdout",
     "output_type": "stream",
     "text": [
      "Dataset URL: https://www.kaggle.com/datasets/sumit17125/red-wine-quality-dataset\n",
      "License(s): CC0-1.0\n"
     ]
    },
    {
     "name": "stderr",
     "output_type": "stream",
     "text": [
      "100%|██████████| 24.0k/24.0k [00:00<00:00, 16.3MB/s]\n",
      "[2025-04-09 18:16:59,700] INFO - 1950516215 - Downloaded dataset to artifacts/data_ingestion/red-wine-quality-dataset.zip\n",
      "[2025-04-09 18:16:59,703] INFO - 1950516215 - Extracted zip file to: artifacts/data_ingestion/unzipped_data\n",
      "[2025-04-09 18:16:59,704] INFO - 1950516215 - Files extracted: ['winequality-red.csv']\n",
      "[2025-04-09 18:16:59,705] INFO - 16066906 - >>>>>> Stage Data Ingestion completed <<<<<<\n",
      "\n"
     ]
    },
    {
     "name": "stdout",
     "output_type": "stream",
     "text": [
      "Downloading red-wine-quality-dataset.zip to artifacts/data_ingestion\n",
      "\n"
     ]
    }
   ],
   "source": [
    "try:\n",
    "        logging.info(f\">>>>>> Stage Data Ingestion started <<<<<<\")\n",
    "        \n",
    "        data_ingestion_config = ConfigurationManager()\n",
    "        config = data_ingestion_config.get_data_ingestion_config()\n",
    "        data_ingestion = DataIngestion(config)\n",
    "        data_ingestion.download_data()\n",
    "        data_ingestion.extract_zip_file()\n",
    "\n",
    "        logging.info(f\">>>>>> Stage Data Ingestion completed <<<<<<\\n\")\n",
    "\n",
    "except Exception as e:\n",
    "    logging.exception(f\"Error occurred in stage Data Ingestion: {e}\")\n",
    "    raise e"
   ]
  }
 ],
 "metadata": {
  "kernelspec": {
   "display_name": ".venv",
   "language": "python",
   "name": "python3"
  },
  "language_info": {
   "codemirror_mode": {
    "name": "ipython",
    "version": 3
   },
   "file_extension": ".py",
   "mimetype": "text/x-python",
   "name": "python",
   "nbconvert_exporter": "python",
   "pygments_lexer": "ipython3",
   "version": "3.12.1"
  }
 },
 "nbformat": 4,
 "nbformat_minor": 5
}
