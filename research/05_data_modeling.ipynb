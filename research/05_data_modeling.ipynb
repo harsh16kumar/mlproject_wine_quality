{
 "cells": [
  {
   "cell_type": "code",
   "execution_count": 48,
   "id": "d7b54ece",
   "metadata": {},
   "outputs": [],
   "source": [
    "import os"
   ]
  },
  {
   "cell_type": "code",
   "execution_count": 49,
   "id": "05164aec",
   "metadata": {},
   "outputs": [
    {
     "data": {
      "text/plain": [
       "'/workspaces/mlproject_wine_quality'"
      ]
     },
     "execution_count": 49,
     "metadata": {},
     "output_type": "execute_result"
    }
   ],
   "source": [
    "# os.chdir('../')\n",
    "%pwd"
   ]
  },
  {
   "cell_type": "code",
   "execution_count": 50,
   "id": "2ae4aa3b",
   "metadata": {},
   "outputs": [],
   "source": [
    "from dataclasses import dataclass\n",
    "from pathlib import Path\n",
    "\n",
    "@dataclass\n",
    "class ModelTrainerConfig:\n",
    "    root_dir: Path\n",
    "    train_data_path: Path\n",
    "    test_data_path: Path\n",
    "    model_path: Path"
   ]
  },
  {
   "cell_type": "code",
   "execution_count": 51,
   "id": "b36d5238",
   "metadata": {},
   "outputs": [],
   "source": [
    "from wine_quality_predictor.constants import *\n",
    "from wine_quality_predictor.utils.common import read_yaml, make_directory\n",
    "\n",
    "class ConfigurationManager:\n",
    "    def __init__(\n",
    "        self,\n",
    "        config_filepath: Path = CONFIG_FILE_PATH,\n",
    "        params_filepath: Path = PARAMS_FILE_PATH,\n",
    "        schema_filepath: Path = SCHEMA_FILE_PATH\n",
    "    ):\n",
    "        self.config_filepath = config_filepath\n",
    "        self.params_filepath = params_filepath\n",
    "        self.schema_filepath = schema_filepath\n",
    "\n",
    "        self.config = read_yaml(Path(self.config_filepath))\n",
    "        self.params = read_yaml(Path(self.params_filepath))\n",
    "        self.schema = read_yaml(Path(self.schema_filepath))\n",
    "\n",
    "        make_directory(Path(self.config.artifacts_root))\n",
    "    \n",
    "    def get_model_trainer_config(self) -> ModelTrainerConfig:\n",
    "        config = self.config.model_trainer\n",
    "\n",
    "        return ModelTrainerConfig(\n",
    "            root_dir=Path(config.root_dir),\n",
    "            train_data_path=Path(config.train_data_path),\n",
    "            test_data_path=Path(config.test_data_path),\n",
    "            model_path=Path(config.model_path)\n",
    "        )\n"
   ]
  },
  {
   "cell_type": "code",
   "execution_count": 52,
   "id": "2913dddd",
   "metadata": {},
   "outputs": [],
   "source": [
    "import pandas as pd\n",
    "from sklearn.linear_model import LogisticRegression\n",
    "from sklearn.metrics import accuracy_score\n",
    "from sklearn.linear_model import ElasticNet\n",
    "from sklearn.metrics import mean_squared_error, r2_score\n",
    "from wine_quality_predictor.utils.common import make_directory, save_bin\n",
    "# from wine_quality_predictor.entity.config_entity import ModelTrainerConfig\n",
    "from wine_quality_predictor import logger\n",
    "\n",
    "class ModelTrainer:\n",
    "    def __init__(self, config: ModelTrainerConfig):\n",
    "        self.config = config\n",
    "\n",
    "    def train(self):\n",
    "        logger.info(\"Reading training and testing data...\")\n",
    "        train_df = pd.read_csv(self.config.train_data_path)\n",
    "        test_df = pd.read_csv(self.config.test_data_path)\n",
    "\n",
    "        X_train = train_df.drop(\"quality\", axis=1)\n",
    "        y_train = train_df[\"quality\"]\n",
    "        X_test = test_df.drop(\"quality\", axis=1)\n",
    "        y_test = test_df[\"quality\"]\n",
    "        # print(y_train.isna().sum())\n",
    "\n",
    "        logger.info(\"Training ElasticNet model...\")\n",
    "        model = ElasticNet(alpha=0.2, l1_ratio=0.1, random_state=42)\n",
    "        model.fit(X_train, y_train)\n",
    "\n",
    "        logger.info(\"Evaluating model...\")\n",
    "        predictions = model.predict(X_test)\n",
    "        mse = mean_squared_error(y_test, predictions)\n",
    "        r2 = r2_score(y_test, predictions)\n",
    "\n",
    "        logger.info(f\"Model MSE: {mse:.4f}\")\n",
    "        logger.info(f\"Model R^2 Score: {r2:.4f}\")\n",
    "\n",
    "        logger.info(\"Saving model...\")\n",
    "        make_directory(self.config.root_dir)\n",
    "        save_bin(self.config.model_path, model)\n",
    "        logger.info(f\"Model saved to: {self.config.model_path}\")\n"
   ]
  },
  {
   "cell_type": "code",
   "execution_count": 53,
   "id": "4d376347",
   "metadata": {},
   "outputs": [],
   "source": [
    "# from src.<your_project>.config.configuration import ConfigurationManager\n",
    "# from src.<your_project>.components.model_trainer import ModelTrainer\n",
    "from wine_quality_predictor import logger\n",
    "\n",
    "STAGE_NAME = \"Model Training\"\n",
    "\n",
    "def main():\n",
    "    try:\n",
    "        logger.info(f\">>>>>> Stage {STAGE_NAME} started <<<<<<\")\n",
    "        config = ConfigurationManager().get_model_trainer_config()\n",
    "        trainer = ModelTrainer(config)\n",
    "        trainer.train()\n",
    "        logger.info(f\">>>>>> Stage {STAGE_NAME} completed <<<<<<\\n\")\n",
    "    except Exception as e:\n",
    "        logger.exception(f\"Error in stage {STAGE_NAME}: {e}\")\n",
    "        raise e\n"
   ]
  },
  {
   "cell_type": "code",
   "execution_count": 54,
   "id": "05ac6e1a",
   "metadata": {},
   "outputs": [
    {
     "name": "stderr",
     "output_type": "stream",
     "text": [
      "[2025-04-11 07:29:02,643] INFO - 1569636174 - >>>>>> Stage Model Training started <<<<<<\n",
      "[2025-04-11 07:29:02,653] INFO - common - Loaded YAML file from: config/config.yaml\n",
      "[2025-04-11 07:29:02,656] INFO - common - Loaded YAML file from: params.yaml\n",
      "[2025-04-11 07:29:02,659] INFO - common - Loaded YAML file from: schema.yaml\n",
      "[2025-04-11 07:29:02,660] INFO - common - Created directory: artifacts\n",
      "[2025-04-11 07:29:02,661] INFO - 124177359 - Reading training and testing data...\n",
      "[2025-04-11 07:29:02,668] INFO - 124177359 - Training ElasticNet model...\n",
      "[2025-04-11 07:29:02,671] INFO - 124177359 - Evaluating model...\n",
      "[2025-04-11 07:29:02,677] INFO - 124177359 - Model MSE: 0.4801\n",
      "[2025-04-11 07:29:02,678] INFO - 124177359 - Model R^2 Score: 0.2653\n",
      "[2025-04-11 07:29:02,679] INFO - 124177359 - Saving model...\n",
      "[2025-04-11 07:29:02,680] INFO - common - Created directory: artifacts/model_trainer\n",
      "[2025-04-11 07:29:02,683] INFO - common - Saved binary file at: artifacts/model_trainer/model.pkl\n",
      "[2025-04-11 07:29:02,684] INFO - 124177359 - Model saved to: artifacts/model_trainer/model.pkl\n",
      "[2025-04-11 07:29:02,685] INFO - 1569636174 - >>>>>> Stage Model Training completed <<<<<<\n",
      "\n"
     ]
    }
   ],
   "source": [
    "main()"
   ]
  },
  {
   "cell_type": "code",
   "execution_count": 55,
   "id": "7feb03d3",
   "metadata": {},
   "outputs": [
    {
     "name": "stdout",
     "output_type": "stream",
     "text": [
      "0\n"
     ]
    },
    {
     "data": {
      "text/plain": [
       "0       6\n",
       "1       6\n",
       "2       6\n",
       "3       5\n",
       "4       5\n",
       "       ..\n",
       "1274    6\n",
       "1275    6\n",
       "1276    5\n",
       "1277    7\n",
       "1278    6\n",
       "Name: quality, Length: 1279, dtype: int64"
      ]
     },
     "execution_count": 55,
     "metadata": {},
     "output_type": "execute_result"
    }
   ],
   "source": [
    "\n",
    "train_data_path= \"artifacts/data_transformation/train.csv\"\n",
    "test_data_path= \"artifacts/data_transformation/test.csv\"\n",
    "train_df = pd.read_csv(str(train_data_path))\n",
    "test_df = pd.read_csv(str(test_data_path))\n",
    "X_train = train_df.drop(\"quality\", axis=1)\n",
    "y_train = train_df[\"quality\"]\n",
    "X_test = test_df.drop(\"quality\", axis=1)\n",
    "y_test = test_df[\"quality\"]\n",
    "print(y_train.isna().sum())\n",
    "y_train\n"
   ]
  },
  {
   "cell_type": "code",
   "execution_count": null,
   "id": "02b45ca8",
   "metadata": {},
   "outputs": [],
   "source": []
  }
 ],
 "metadata": {
  "kernelspec": {
   "display_name": ".venv",
   "language": "python",
   "name": "python3"
  },
  "language_info": {
   "codemirror_mode": {
    "name": "ipython",
    "version": 3
   },
   "file_extension": ".py",
   "mimetype": "text/x-python",
   "name": "python",
   "nbconvert_exporter": "python",
   "pygments_lexer": "ipython3",
   "version": "3.12.1"
  }
 },
 "nbformat": 4,
 "nbformat_minor": 5
}
